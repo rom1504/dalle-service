{
  "nbformat": 4,
  "nbformat_minor": 0,
  "metadata": {
    "colab": {
      "name": "dalle_back.ipynb",
      "provenance": [],
      "collapsed_sections": [],
      "include_colab_link": true
    },
    "kernelspec": {
      "name": "python3",
      "display_name": "Python 3"
    },
    "language_info": {
      "name": "python"
    },
    "accelerator": "GPU"
  },
  "cells": [
    {
      "cell_type": "markdown",
      "metadata": {
        "id": "view-in-github",
        "colab_type": "text"
      },
      "source": [
        "<a href=\"https://colab.research.google.com/github/rom1504/dalle-service/blob/master/dalle_back.ipynb\" target=\"_parent\"><img src=\"https://colab.research.google.com/assets/colab-badge.svg\" alt=\"Open In Colab\"/></a>"
      ]
    },
    {
      "cell_type": "markdown",
      "metadata": {
        "id": "VRRXnKUCCMTv"
      },
      "source": [
        "# **This colab allows users to inference and share released Dall-E Models.**\n",
        "\n",
        "# [Dall-E Service](https://github.com/rom1504/dalle-service) | [Models](https://github.com/robvanvolt/DALLE-models)\n",
        "\n",
        "*Colab created by mega b#6696*"
      ]
    },
    {
      "cell_type": "code",
      "metadata": {
        "id": "RrmBb36yn4i_",
        "cellView": "form"
      },
      "source": [
        "#@title # **Setup, run this once**\n",
        "from IPython.display import clear_output\n",
        "!sudo apt-get -y install llvm-9-dev cmake\n",
        "!git clone https://github.com/microsoft/DeepSpeed.git /tmp/Deepspeed\n",
        "%cd /tmp/Deepspeed\n",
        "!DS_BUILD_SPARSE_ATTN=1 ./install.sh -r\n",
        "!npm install -g localtunnel\n",
        "clear_output()\n",
        "%cd /content/\n",
        "!pip install Flask==1.1.2 Flask-Cors==3.0.9 Flask-RESTful==0.3.8 dalle-pytorch tqdm\n",
        "!git clone https://github.com/rom1504/dalle-service.git\n",
        "clear_output()\n",
        "print(\"Finished setup.\")"
      ],
      "execution_count": null,
      "outputs": []
    },
    {
      "cell_type": "code",
      "metadata": {
        "id": "B__cvu7glQZC",
        "cellView": "form"
      },
      "source": [
        "#@title # **Enter direct model download**\n",
        "#@markdown # Publicly released models are located [here](https://github.com/robvanvolt/DALLE-models).\n",
        "\n",
        "model_url = \"https://github.com/johnpaulbin/DALLE-models/releases/download/model/16L_64HD_8H_512I_128T_cc12m_cc3m_3E.pt\" #@param {type:\"string\"}\n",
        "\n",
        "!wget \"$model_url\" -O dalle_checkpoint.pt\n",
        "\n",
        "!echo '{\"good\": \"dalle_checkpoint.pt\"}' > pretrained_models.json\n",
        "\n",
        "clear_output()\n",
        "\n",
        "print(\"Finished download.\")"
      ],
      "execution_count": null,
      "outputs": []
    },
    {
      "cell_type": "code",
      "metadata": {
        "id": "NCAhqNj0o0J3",
        "cellView": "form"
      },
      "source": [
        "#@title # **Start backend**\n",
        "#@markdown ## Copy the url it provides you, and you will be able to use it in https://rom1504.github.io/dalle-service\n",
        "\n",
        "#@markdown #### Example: https://rom1504.github.io/dalle-service?backendUrl=https://XXXX.loca.lt\n",
        "\n",
        "from threading import Thread\n",
        "\n",
        "def app():\n",
        "  !python dalle-service/dalle_server/app.py 8000\n",
        "\n",
        "if __name__ == '__main__':\n",
        "    t1 = Thread(target = app)\n",
        "    a = t1.start()\n",
        "    !lt --port 8000"
      ],
      "execution_count": null,
      "outputs": []
    }
  ]
}
{"mode":"full","isActive":false}