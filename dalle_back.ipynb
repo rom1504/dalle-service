{
  "nbformat": 4,
  "nbformat_minor": 0,
  "metadata": {
    "colab": {
      "name": "dalle_back.ipynb",
      "provenance": [],
      "collapsed_sections": [
        "IF2ZqpaJlVZG"
      ]
    },
    "kernelspec": {
      "name": "python3",
      "display_name": "Python 3"
    },
    "language_info": {
      "name": "python"
    },
    "accelerator": "GPU"
  },
  "cells": [
    {
      "cell_type": "markdown",
      "metadata": {
        "id": "slKSMY1flQ4F"
      },
      "source": [
        "## Install dalle deps"
      ]
    },
    {
      "cell_type": "code",
      "metadata": {
        "id": "RrmBb36yn4i_"
      },
      "source": [
        "!sudo apt-get -y install llvm-9-dev cmake\n",
        "!git clone https://github.com/microsoft/DeepSpeed.git /tmp/Deepspeed\n",
        "%cd /tmp/Deepspeed\n",
        "!DS_BUILD_SPARSE_ATTN=1 ./install.sh -r\n",
        "!npm install -g localtunnel\n",
        "\n",
        "!pip install deepspeed\n",
        "%cd /content/\n",
        "!pip install Flask==1.1.2 Flask-Cors==3.0.9 Flask-RESTful==0.3.8 dalle-pytorch tqdm\n",
        "!git clone https://github.com/rom1504/dalle-service.git"
      ],
      "execution_count": null,
      "outputs": []
    },
    {
      "cell_type": "markdown",
      "metadata": {
        "id": "IF2ZqpaJlVZG"
      },
      "source": [
        "## Download some models"
      ]
    },
    {
      "cell_type": "code",
      "metadata": {
        "id": "B__cvu7glQZC"
      },
      "source": [
        "!wget https://www.dropbox.com/s/l89xnuy11s1qeqf/16L_64HD_16H_756I_128T_cc12m_1E.pt?dl=1\n",
        "!wget https://www.dropbox.com/s/8mmgnromwoilpfm/16L_64HD_8H_512I_128T_cc12m_cc3m_3E.pt?dl=1"
      ],
      "execution_count": null,
      "outputs": []
    },
    {
      "cell_type": "code",
      "metadata": {
        "id": "UJ2iXN0moP7f"
      },
      "source": [
        "!echo '{\"great\": \"16L_64HD_8H_512I_128T_cc12m_cc3m_3E.pt?dl=1\", \"good\": \"16L_64HD_16H_756I_128T_cc12m_1E.pt?dl=1\"}' > model_paths.json\n",
        "!cat model_paths.json"
      ],
      "execution_count": null,
      "outputs": []
    },
    {
      "cell_type": "markdown",
      "metadata": {
        "id": "BLVRvLx3la7d"
      },
      "source": [
        "## Run the back"
      ]
    },
    {
      "cell_type": "code",
      "metadata": {
        "id": "NCAhqNj0o0J3"
      },
      "source": [
        "from threading import Thread\n",
        "\n",
        "def app():\n",
        "  !python dalle-service/back/dalle_service.py 8000\n",
        "\n",
        "if __name__ == '__main__':\n",
        "    t1 = Thread(target = app)\n",
        "    a = t1.start()"
      ],
      "execution_count": 7,
      "outputs": []
    },
    {
      "cell_type": "markdown",
      "metadata": {
        "id": "2W4ZqJvCpuYy"
      },
      "source": [
        ""
      ]
    },
    {
      "cell_type": "code",
      "metadata": {
        "id": "FldETjiUkn11"
      },
      "source": [
        "!lt --port 8000"
      ],
      "execution_count": null,
      "outputs": []
    },
    {
      "cell_type": "markdown",
      "metadata": {
        "id": "glWKGrk-px3U"
      },
      "source": [
        "## Then you can put the `loca` url into the already-hosted frontend ✨ https://rom1504.github.io/dalle-service"
      ]
    }
  ]
}